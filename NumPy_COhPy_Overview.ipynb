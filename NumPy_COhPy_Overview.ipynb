{
 "cells": [
  {
   "cell_type": "markdown",
   "id": "8e3980a9-9322-4b50-a4cf-38daf8e9562c",
   "metadata": {},
   "source": [
    "# NumPy Overview\n",
    "## Go to the GitHub Repository: https://github.com/K-Cellentani/NumPy_COhPy_MarchPresentation\n",
    "### Install NumPy, Pandas and Matplotlib. See download instructions below:\n",
    "- [NumPy Download Instructions](https://numpy.org/install/)\n",
    "- [Pandas Download Instructions](https://pandas.pydata.org/pandas-docs/stable/getting_started/install.html)\n",
    "- [Matplotlib Download Instructions](https://matplotlib.org/stable/users/installing/index.htmmpy)\n",
    "- [Numpy-Financial](https://numpy.org/numpy-financial/)\n",
    "\n",
    "## Sources\n",
    "- [W3 Schools: NumPy](https://www.w3schools.com/python/numpy/numpy_intro.asp)\n",
    "- [NumPy Codebase](https://github.com/numpy/nump)y\n",
    "- [Python Array Size](https://codedamn.com/news/python/array-size-determine-length-pytho)n\n",
    "- [Numy Stats Graphs](https://www.bmc.com/blogs/numpy-statistical-functions/)\n",
    "- [Intro into NumPy Finance](https://github.com/simranjeet97/financial_analysis_python/blob/main/Financial_Analysis_Course_Week_4.ipynb)\n",
    "- [W3 NumPy Finance](https://www.w3resource.com/numpy/financial-functions/npv.php)\n",
    "\n",
    "## Intro\n",
    "NumPy is an open-source Python library used for working with arrays that was created in 2005 by [Travis Oliphant](https://en.wikipedia.org/wiki/Travis_Oliphant).\n",
    "\n",
    "NumPy is called ndarray; it provides a lot of supporting functions that make working with ndarrays very easy.\n",
    "\n",
    "Numerical Python (NumPy) Functions for working with:\n",
    "- Linear algebra\n",
    "- Fourier transform\n",
    "- Matrices\n",
    "\n",
    "NumPy is up to 50x faster than traditional Python lists because:\n",
    "- Locality:sStoredcontiguouslyy in memory unlike lists, so processes can access and manipulate them very efficiently.\n",
    "- Also, it is optimized to work with the latest CPU architectures.\n",
    "- Note: NumPy is a Python library and is written partially in Python, but most of the parts that require fast computation are written in C or C++.."
   ]
  },
  {
   "cell_type": "code",
   "execution_count": 1,
   "id": "c62e5850-d5e1-40b9-a771-5d5fd5a0b089",
   "metadata": {},
   "outputs": [],
   "source": [
    "import numpy_financial as nf\n",
    "import numpy as np\n",
    "import pandas as pd\n",
    "import matplotlib as plt"
   ]
  },
  {
   "cell_type": "markdown",
   "id": "a2a91453-fd69-4f9c-b3ce-93ba520a5b0a",
   "metadata": {},
   "source": [
    "Start with Numpy by importing the library:\n",
    "\n",
    "import numpy as py\n",
    "\n",
    "for a typical and np.array\n",
    "\n",
    "1) Then make an array called arr with the 5 number\n",
    "2) Print the array\n",
    "3) Print the type of arr: type(arr)"
   ]
  },
  {
   "cell_type": "markdown",
   "id": "83f06b08-446f-416d-a3f4-23f696915bb6",
   "metadata": {},
   "source": [
    "**_<span style=\"color:blue; font-size:x-large;\">You Try:</span>_**\n"
   ]
  },
  {
   "cell_type": "code",
   "execution_count": 2,
   "id": "75ca712e-97e2-4c17-8213-15473036ef83",
   "metadata": {},
   "outputs": [],
   "source": [
    "arr = []"
   ]
  },
  {
   "cell_type": "code",
   "execution_count": null,
   "id": "b231fe71-6782-4d62-9e44-25d78cd21f49",
   "metadata": {},
   "outputs": [],
   "source": []
  },
  {
   "cell_type": "markdown",
   "id": "62d95e66-872b-4cb9-aafb-9b3a877e5f91",
   "metadata": {},
   "source": [
    "# Pandas vs Numpy\r\n",
    "\r\n",
    "**Pandas** is an open-source library written in Python Language. Pandas provides high-performance, fast, easy-to-use data structures, and data analysis tools for manipulating numeric data and time series.\r\n",
    "\r\n",
    "Pandas is built on the **NumPy** library and written in languages like Python, Cython, and C. In Pandas, we can import data from various file formats like JSON, SQL, Microsoft Excel, etc.\r\n",
    "\r\n",
    "Both NumPy and Pandas are very important libraries in Python Programming, both serving their purpose. Pandas is useful for organizing data into rows and columns making it easy to clean, analyze, and manipulate data, whereas NumPy is useful for efficient math on raw numbers.\r\n",
    "\r\n",
    "## Differences in Pandas vs NumPy\r\n",
    "\r\n",
    "| Pandas | NumPy |\r\n",
    "| --- | --- |\r\n",
    "| When we have to work on Tabular data, we prefer the pandas module. | When we have to work on Numerical data, we prefer the NumPy module. |\r\n",
    "| The powerful tools of pandas are DataFrame and Series. | Whereas the powerful tool of NumPy is Arrays. |\r\n",
    "| Pandas consume more memory. | Numpy is memory efficient. |\r\n",
    "| Pandas have better performance when the number of rows is 500K or more. | Numpy has better performance when the number of rows is 50K or less. |\r\n",
    "| Indexing of the Pandas series is very slow as compared to Numpy arrays. | Indexing of Numpy arrays is very fast. |\r\n",
    "| Pandas have a 2D table object called DataFrame. | Numpy is capable of providing multi-dimensional arrays. |\r\n",
    "| It was developed by Wes McKinney and was released in 2008. | It was developed by Travis Oliphant and was released in 2005. |\r\n",
    "| It is used in a lot of organizations like Kaidee, Trivago, Abeja Inc., and a lot more. | It is being used in organizations like Walmart, Tokopedia, Instacart, and many more. |\r\n",
    "| It has a higher industry application. | It has a lower industry application. |\r\n",
    "\r\n",
    "## Functions and features that\n",
    "\n",
    "| Category | Description | Function Names |\n",
    "| --- | --- | --- |\n",
    "| Array Manipulation | NumPy provides functions for manipulating arrays, including reshaping, stacking, and splitting. These functions enable efficient data manipulation and transformation for various computational tasks. | np.reshape(), np.stack(), np.hstack(), np.vstack(), np.split(), nplit(), np.vsplit(), etc. |\n",
    "| Linear Algebra | NumPy includes functions for linear algebra operations such as matrix multiplication, matrix decomposition, and solving linear equations. These functions are crucial for various numerical computations. | np.dot(), np.linalg.inv(), np.linalg.eig(), np.linalg.solve(), etc. |\n",
    "| Random Number Generation | NumPy offers functions for generating random numbers with different distributions, such as uniform, normal, and discrete. These functions are useful for simulation and statistical analysis. | np.random.rand(), np.random.randn(), np.random.randint(), etc. |\n",
    "| Mathematical Functions | NumPy provides mathematical functions for array manipulation and operations. These include functions like sine, cosine, exponential, and logarithm, which operate element-wise on arrays. | np.sin(), np.cos(), np.exp(), np.log(), etc. |\n",
    "| Fast Fourier Transform (FFT) | NumPy provides functions for computing the FFT, which is essential for signal processing and spectral analysis. These functions allow efficient transformation of data from the time domain to the frequency domain. | np.fft.fft(), np.fft.ifft(), etc. |t(), np.vsplit(), etc. |\r\n",
    " |\r\n"
   ]
  },
  {
   "cell_type": "markdown",
   "id": "59b87b73-dc41-47e9-9078-2402c7678f47",
   "metadata": {},
   "source": [
    "# Array Shapes in NumPy\r\n",
    "\r\n",
    "In NumPy, the shape of an array is the number of elements in each dimension. Understanding array shapes is crucial for effectively working with multidimensional array_ay.shape)\r\n",
    "\n",
    "\n",
    "\n",
    "\n",
    "![3D Imange](data:image/png;base64,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)\n",
    "\n"
   ]
  },
  {
   "cell_type": "markdown",
   "id": "bd4c7c41-e862-4129-9997-fab399311329",
   "metadata": {},
   "source": [
    "## Two-Dimensional Arrays\r\n",
    "A two-dimensional array has two dimensions, typically representing rows and columns. It is like a table or matrix\n",
    "\n",
    "two_dim_array = np.array([[1, 2, 3], [4, 5, 6]])."
   ]
  },
  {
   "cell_type": "code",
   "execution_count": 3,
   "id": "e59083b3-4a3f-4ee4-882d-f206761537d3",
   "metadata": {},
   "outputs": [
    {
     "name": "stdout",
     "output_type": "stream",
     "text": [
      "[[1 2 3]\n",
      " [4 5 6]]\n",
      "Shape of two-dimensional array: (2, 3)\n"
     ]
    }
   ],
   "source": [
    "# Create a two-dimensional array and print the array and the shape\n",
    "two_dim_array = np.array([[1, 2, 3], [4, 5, 6]])\n",
    "print(two_dim_array)\n",
    "print(\"Shape of two-dimensional array:\", two_dim_array.shape)"
   ]
  },
  {
   "cell_type": "markdown",
   "id": "ed1b5a57-4e06-4c1b-9175-f5ff0ed04714",
   "metadata": {},
   "source": [
    "## Three-Dimensional Arrays\r\n",
    "A three-dimensional array has three dimensions, which can be thought of as a cube of numbers\n",
    "\n",
    "three_dim_array = np.array([[[1, 2], [3, 4]], [[5, 6], [7, 8]]])."
   ]
  },
  {
   "cell_type": "markdown",
   "id": "d8b1194c-8a02-4269-82e3-3b5466d5dd78",
   "metadata": {},
   "source": [
    "**_<span style=\"color:blue; font-size:x-large;\">You Try:</span>_**\n"
   ]
  },
  {
   "cell_type": "code",
   "execution_count": 4,
   "id": "b4bf27d0-6aaa-48c1-b83d-6f69639f7c5c",
   "metadata": {},
   "outputs": [],
   "source": [
    "# Create a three-dimensional array, print the array and the shape\n",
    "three_dim_array = np.array([[[1, 2], [3, 4]], [[5, 6], [7, 8]]])\n"
   ]
  },
  {
   "cell_type": "markdown",
   "id": "95222902-5427-4998-b2c1-f8e541bb95db",
   "metadata": {},
   "source": [
    "## np.diff()\n",
    "\n",
    "Calculates the difference between consecutive elements in an array along a specified axis. It returns an array containing the differences between each pair of adjacent elements."
   ]
  },
  {
   "cell_type": "code",
   "execution_count": 5,
   "id": "e4853d1d-84c9-4b7a-8f37-98c4bc688f9b",
   "metadata": {},
   "outputs": [
    {
     "name": "stdout",
     "output_type": "stream",
     "text": [
      "Original array: [1 3 5 7 9]\n",
      "Differences between consecutive elements: [2 2 2 2]\n"
     ]
    }
   ],
   "source": [
    "arr = np.array([1, 3, 5, 7, 9])\n",
    "\n",
    "# Calculate differences between consecutive elements\n",
    "differences = np.diff(arr)\n",
    "\n",
    "print(\"Original array:\", arr)\n",
    "print(\"Differences between consecutive elements:\", differences)"
   ]
  },
  {
   "cell_type": "markdown",
   "id": "95d00ec6-6f7b-4559-95cb-ae51bfbbd991",
   "metadata": {},
   "source": [
    "## Use Case Example: Financial Analysis\n",
    "\n",
    "NumPy arrays are useful for financial analysis, such as calculating returns on investment portfolios."
   ]
  },
  {
   "cell_type": "code",
   "execution_count": 6,
   "id": "ea073979-d9ee-4f10-8447-37c5a5548005",
   "metadata": {},
   "outputs": [],
   "source": [
    "# Define investment portfolio\n",
    "portfolio_values = np.array([10000, 12000, 15000, 11000, 13500])"
   ]
  },
  {
   "cell_type": "markdown",
   "id": "c15e17aa-0110-4f05-9a6f-60f82b2aa1b2",
   "metadata": {},
   "source": [
    "**_<span style=\"color:blue; font-size:x-large;\">You Try:</span>_**\n"
   ]
  },
  {
   "cell_type": "code",
   "execution_count": 7,
   "id": "45c9bc4f-c673-40c4-9ce1-029a35eb7b12",
   "metadata": {},
   "outputs": [
    {
     "name": "stdout",
     "output_type": "stream",
     "text": [
      "[ 2000  3000 -4000  2500]\n",
      "[10000 12000 15000 11000]\n"
     ]
    }
   ],
   "source": [
    "# Calculate daily returns\n",
    "\n",
    "print(np.diff(portfolio_values))\n",
    "print(portfolio_values[:-1])\n",
    "\n",
    "# write the function and print the results\n"
   ]
  },
  {
   "cell_type": "markdown",
   "id": "900245c1-17dd-4245-8d3e-576e57739a7b",
   "metadata": {},
   "source": [
    "### Overview of NumPy Functions for Array Manipulation \n",
    "#### Use Case Financial Analysis:\r\n",
    "\r\n",
    "Array manipulation functions in NumPy are essential for financial analysis tasks, such as managing investment portfolios, calculating returns, and analyzing market data. For example:\r\n",
    "\r\n",
    "- Reshaping arrays can be used to organize historical stock prices into a matrix, where each row represents a stock and each column represents a specific time period.\r\n",
    "- Stacking arrays can be useful for combining multiple datasets, such as stock prices and financial indicators, into a single array for analysis.\r\n",
    "- Splitting arrays can help partition financial data for analysis, such as splitting a dataset into training and testing sets for building predictive models.e learning, and scientific computing.\r\n",
    "ing, and scientific computing.\r\n"
   ]
  },
  {
   "cell_type": "markdown",
   "id": "5dab5249-dae9-4445-911f-19214917a362",
   "metadata": {},
   "source": [
    "**`np.reshape()`**:\r\n",
    "   - *Overview:* This function reshapes an array into a new shape without changing its data.\r\n",
    "   - *Use Case:* It is used when you want to change the dimensions of an existing array to match a desired shape, such as organizing historical stock prices into a matriock returns by industry sectors."
   ]
  },
  {
   "cell_type": "markdown",
   "id": "c0c56f71-9ab7-4e0d-96c4-00c114e606ad",
   "metadata": {},
   "source": [
    "**_<span style=\"color:blue; font-size:x-large;\">You Try:</span>_**\n"
   ]
  },
  {
   "cell_type": "code",
   "execution_count": 8,
   "id": "272b1a38-8172-47e0-86cf-8e291347c4e4",
   "metadata": {},
   "outputs": [
    {
     "name": "stdout",
     "output_type": "stream",
     "text": [
      "[100 105 110 115 135 140 126 179 200 195 190 185]\n"
     ]
    }
   ],
   "source": [
    "# Reshape the array to organize historical stock prices into a matrix to only give the last three days of the first two stocks\n",
    "historical_prices = np.array([100, 105, 110, 115, 135, 140, 126, 179, 200, 195, 190, 185])\n",
    "print(historical_prices)\n",
    "\n",
    "# Change the matrix to a 3 by 4 array \n"
   ]
  },
  {
   "cell_type": "markdown",
   "id": "af242d7e-234d-4213-a888-5f6dc85c7deb",
   "metadata": {},
   "source": [
    "**`np.stack()`**:\r\n",
    "\r\n",
    "   - *Overview:* This function joins a sequence of arrays along a new axis, stacking them.\r\n",
    "\r\n",
    "![stakck1 imange](https://www.w3resource.com/w3r_images/numpy-manipulation-stack-function-image-2.png)\r\n",
    "\r\n",
    "**`np.hstack()`**:\r\n",
    "\r\n",
    "   - *Overview:* This function stacks arrays in sequence horizontally (column-wise).\r\n",
    "\r\n",
    "**`np.vstack()`**:\r\n",
    "\r\n",
    "   - *Overview:* This function stacks arrays in sequence vertically (row-wise).\r\n",
    "\r\n",
    "![stakck2 imange](https://i.stack.imgur.com/hSM5G.png)\r\n",
    "ors."
   ]
  },
  {
   "cell_type": "markdown",
   "id": "76cc08e3-22fa-418e-8055-9501026eae26",
   "metadata": {},
   "source": [
    "**`np.split()`**:\n",
    "\n",
    "   - *Overview:* This function splits an array into multiple sub-arrays along a specified axis.\n",
    "\n",
    "![split1](https://www.w3resource.com/w3r_images/python-numpy-image-exercise-61.png)\n",
    "\n",
    "**`np.hsplit()`**:\n",
    "\n",
    "   - *Overview:* This function splits an array horizontally (column-wise) into multiple sub-arrays.\n",
    "\n",
    "\n",
    "**`np.vsplit()`**:\n",
    "\n",
    "   - *Overview:* This function splits an array vertically (row-wise) into multiple sub-arrays.\n"
   ]
  },
  {
   "cell_type": "markdown",
   "id": "7e6449d7-edbd-4695-aa0c-64870f96074c",
   "metadata": {},
   "source": [
    "# Linear Algebra\n",
    "\n",
    "### NumPy includes functions for linear algebra operations such as matrix multiplication, matrix decomposition, and solving linear equations. These functions are crucial for various numerical computations."
   ]
  },
  {
   "cell_type": "markdown",
   "id": "c9a0fd3f-12e9-4be3-a853-e98fca037358",
   "metadata": {},
   "source": [
    "### np.add\r\n",
    "\r\n",
    "`np.add` performs element-wise addition of two arrays."
   ]
  },
  {
   "cell_type": "code",
   "execution_count": 9,
   "id": "099cf774-9abe-4204-be16-df78eb7fda16",
   "metadata": {},
   "outputs": [],
   "source": [
    "# Example of np.add in financial analysis: Adding daily returns of two stocks\n",
    "stock1_returns = np.array([0.01, 0.02, -0.005, 0.015, -0.01])\n",
    "stock2_returns = np.array([0.015, -0.01, 0.025, -0.02, 0.03])\n",
    "\n",
    "# Write the function and print the results\n"
   ]
  },
  {
   "cell_type": "markdown",
   "id": "cdf5e9c6-cce7-43b6-8c11-e70c18b8f316",
   "metadata": {},
   "source": [
    "### np.add\r\n",
    "`np.sum`: Computes the sum of array elements over a given axis."
   ]
  },
  {
   "cell_type": "code",
   "execution_count": 10,
   "id": "bf2d29c3-4eba-47e5-a63d-7d6fb09125a0",
   "metadata": {},
   "outputs": [],
   "source": [
    "# Example variables\n",
    "portfolio_values = np.array([10000, 12000, 15000, 11000, 13500])\n",
    "\n",
    "# Write the function and print the results"
   ]
  },
  {
   "cell_type": "markdown",
   "id": "a89cfbba-7f9f-48ee-94d8-057e9621bbf3",
   "metadata": {},
   "source": [
    "### np.prod\r",
    "`np.prod`: Computes the product of array elements over a given axis.."
   ]
  },
  {
   "cell_type": "code",
   "execution_count": 11,
   "id": "fd9dc100-15c8-41b4-9b8d-7c12633036d9",
   "metadata": {},
   "outputs": [],
   "source": [
    "# Example variables\n",
    "investment_returns = np.array([1.05, 1.02, 1.03, 0.98, 1.015])\n",
    "\n",
    "# Write the function and print the results"
   ]
  },
  {
   "cell_type": "markdown",
   "id": "7bb2fe8b-e0ca-4b64-91f7-0609e20e51f0",
   "metadata": {},
   "source": [
    "### np.lcm\r",
    "`np.lcm`: Computes the least common multiple of array elements."
   ]
  },
  {
   "cell_type": "code",
   "execution_count": 12,
   "id": "145dec10-b932-4c4b-90bf-6d3bd04ff151",
   "metadata": {},
   "outputs": [],
   "source": [
    "# Example variables\n",
    "investment_periods = np.array([3, 6, 9, 12])\n",
    "\n",
    "# Write the function and print the results"
   ]
  },
  {
   "cell_type": "markdown",
   "id": "1e497dda-16d1-497c-81d8-6f60b19f8aa0",
   "metadata": {},
   "source": [
    "### np.gcd\r",
    "`np.gcd`: Computes the greatest common divisor of array elements."
   ]
  },
  {
   "cell_type": "code",
   "execution_count": 13,
   "id": "97d2ce8f-b0c4-4774-9597-83efa059cfb1",
   "metadata": {},
   "outputs": [],
   "source": [
    "# Example variables\n",
    "investment_periods = np.array([3, 6, 9, 12])\n",
    "\n",
    "# Write the function and print the results"
   ]
  },
  {
   "attachments": {},
   "cell_type": "markdown",
   "id": "d4b3950b-4010-422b-b273-b5b8feb9265d",
   "metadata": {},
   "source": [
    "### np.dot\r",
    "`np.dot()`: Computes the dot product of two arrays.\n",
    "\n",
    "![image_dot](https://www.sharpsightlabs.com/wp-content/uploads/2021/01/numpy-dot_FEATURED-IMAGE.png)"
   ]
  },
  {
   "cell_type": "code",
   "execution_count": 14,
   "id": "915c9d1a-0a8d-436c-a098-48598a101617",
   "metadata": {},
   "outputs": [],
   "source": [
    "# Example variables\n",
    "portfolio_weights = np.array([0.5, 0.3, 0.2])\n",
    "portfolio_returns = np.array([0.05, 0.02, 0.03])\n",
    "\n",
    "# Write the function and print the results"
   ]
  },
  {
   "cell_type": "markdown",
   "id": "ae1b84e8-3b20-43e9-9283-ef1e0cdfc551",
   "metadata": {},
   "source": [
    "# Financial Analysis with NumPy\n",
    "\n",
    "### Common function that we will use:\n",
    "- np.mean,\r",
    "- np.std,\n",
    "- np.cov,\n",
    "- np.corr\n",
    "- nf.fv,\n",
    "- nf.pv,\n",
    "- nf.pmt."
   ]
  },
  {
   "cell_type": "code",
   "execution_count": 15,
   "id": "b329093d-32b4-4d95-8729-e6e8771e3e23",
   "metadata": {},
   "outputs": [
    {
     "name": "stdout",
     "output_type": "stream",
     "text": [
      "0.005999999999999998\n",
      "0.032619012860600184\n"
     ]
    }
   ],
   "source": [
    "# Computing Mean and Standard Deviation\n",
    "import numpy as np\n",
    "\n",
    "returns = np.array([0.05, -0.02, 0.03, 0.01, -0.04])\n",
    "mean_return = np.mean(returns)\n",
    "# standard deviation measures the fluctuation in the fund's share price or returns over time, that is how much it is away from mean.\n",
    "std_deviation = np.std(returns) # It's not Beta in Finance\n",
    "\n",
    "print(mean_return)\n",
    "print(std_deviation)"
   ]
  },
  {
   "cell_type": "code",
   "execution_count": 16,
   "id": "b3a01195-9af2-47d6-9c8f-2aca9fb13d83",
   "metadata": {},
   "outputs": [
    {
     "name": "stdout",
     "output_type": "stream",
     "text": [
      "COV-  0.00047\n",
      "CORR-  0.8497831579263382\n"
     ]
    }
   ],
   "source": [
    "# Calculating Covariance and Correlation\n",
    "stock_returns = np.array([0.05, -0.02, 0.03, 0.01, -0.04])\n",
    "market_returns = np.array([0.02, 0.01, 0.03, 0.02, -0.01])\n",
    "\n",
    "# covariance (-inf to +inf) can predict how two stocks might perform relative to each other in the future. It determines if stocks' returns tend to move with or against each other.\n",
    "covariance = np.cov(stock_returns, market_returns)[0, 1]\n",
    "\n",
    "# Scaled version of covariance as it does not affect by change in scale and limit from -1 to +1.\n",
    "correlation = np.corrcoef(stock_returns, market_returns)[0, 1]\n",
    "print(\"COV- \",covariance)\n",
    "print(\"CORR- \",correlation)\n"
   ]
  },
  {
   "cell_type": "markdown",
   "id": "af26a751-b6f3-4e8e-99d1-f30a13fd8cf8",
   "metadata": {},
   "source": [
    "## nf.pv()\n",
    "\n",
    "#### The fv() function is used to compute the future value.\n",
    "\n",
    "nf.fv(rate, nper, pmt, pv, when='end')\n",
    "\n",
    "| Name | Description | Required / Optional |\r\n",
    "|------|-------------|---------------------|\r\n",
    "| rate | Rate of interest as decimal (not per cent) per period - Required |\r\n",
    "| nper | Number of compounding periods - Required |\r\n",
    "| pmt  | Paymen) - Required |\r\n",
    "| pv   | Present val ) - Required |\r\n",
    "| when | When payments are due ('begin' (1) or 'end' (0)). Defaults to {'end', 0}. | {'begin', 1}, {'end', 0}, {string, int Opti\n",
    "onal |\r\n"
   ]
  },
  {
   "cell_type": "code",
   "execution_count": 17,
   "id": "066a9388-84cb-43a8-881f-0356c6823ba4",
   "metadata": {},
   "outputs": [
    {
     "name": "stdout",
     "output_type": "stream",
     "text": [
      "FV is: 33139.748708098065\n"
     ]
    }
   ],
   "source": [
    "# Calculating Future Value\n",
    "import numpy_financial as nf\n",
    "\n",
    "# What is the future value after 10 years of saving $200 now, with an additional monthly savings of $200.\n",
    "# Assume the interest rate is 6% (annually) compounded monthly?\n",
    "\n",
    "rate = 0.06\n",
    "nper = 10\n",
    "pmt = -200\n",
    "pv = -200\n",
    "\n",
    "# Present value (PV) is the current value of a future sum of money or stream of cash flows given a specified rate of return.\n",
    "present_value = nf.fv(rate/12, nper*12, pmt, pv)\n",
    "print(\"FV is:\", present_value)"
   ]
  },
  {
   "cell_type": "markdown",
   "id": "01a0cb7a-4fc2-4c46-9e66-b544939bb7c4",
   "metadata": {},
   "source": [
    "**_<span style=\"color:blue; font-size:x-large;\">You Try:</span>_**"
   ]
  },
  {
   "cell_type": "code",
   "execution_count": 18,
   "id": "d17897dc-1ddd-42d1-9ee0-e96a009c3170",
   "metadata": {},
   "outputs": [],
   "source": [
    "# Calculating Future Value\n",
    "import numpy_financial as nf\n",
    "\n",
    "# What is the future value after 5 years of saving $0 now, with an additional monthly savings of $200.\n",
    "# Assume the interest rate is 6% (annually) compounded monthly?\n",
    "\n"
   ]
  },
  {
   "cell_type": "markdown",
   "id": "317c7420-3e19-45c4-b1dd-66311ed6b804",
   "metadata": {},
   "source": [
    "## nf.pv()\n",
    "\n",
    "#### The pv() function is used to compute the present value.\n",
    "\n",
    "nf.pv(rate, nper, pmt, fv=0.0, when='end')\n",
    "\n",
    "| Name | Description | Required / Optional |\r\n",
    "|------|-------------|---------------------|\r\n",
    "| rate | Rate of interest (per period) | array_like - Required |\r\n",
    "| nper | Number of compounding periods | array_like - Required |\r\n",
    "| pmt  | Payment | array_like - Required |\r\n",
    "| fv   | Future value | array_like - Optional |\r\n",
    "| when | When payments are due ('begin' (1) or 'end' (0)) | {'begin', 1}, {'end', 0}, {string, int} - Optional |\r\n"
   ]
  },
  {
   "cell_type": "code",
   "execution_count": 19,
   "id": "f32cad7c-784f-4079-aeb4-90085ba4e8a3",
   "metadata": {},
   "outputs": [
    {
     "name": "stdout",
     "output_type": "stream",
     "text": [
      "PV is: -199.99961080612695\n"
     ]
    }
   ],
   "source": [
    "# Calculating Present Value\n",
    "# What is the present value (e.g., the initial investment) of an investment that needs to total $33139.75 after 10 years of saving $200 every month?\n",
    "# Assume the interest rate is 5% (annually) compounded monthly.\n",
    "\n",
    "rate = 0.06\n",
    "nper = 10\n",
    "pmt = -200\n",
    "fv = 33139.748\n",
    "\n",
    "# Present value (PV) is the current value of a future sum of money or stream of cash flows given a specified rate of return.\n",
    "present_value = nf.pv(rate/12, nper*12, pmt, fv)\n",
    "print(\"PV is:\", present_value)"
   ]
  },
  {
   "cell_type": "code",
   "execution_count": 20,
   "id": "2f52f839-5bfb-4a27-9add-60dbaa0f9285",
   "metadata": {},
   "outputs": [
    {
     "name": "stdout",
     "output_type": "stream",
     "text": [
      "PV is: -45052.34607107933\n"
     ]
    }
   ],
   "source": [
    "# Calculating Present Value\n",
    "import numpy_financial as nf\n",
    "\n",
    "#What is the present value (e.g., the initial investment) of an investment that needs to total $100,000 after 10 years?\n",
    "#Assume the interest rate is 8% (annually) compounded monthly.\n",
    "\n",
    "rate = 0.08\n",
    "nper = 10\n",
    "pmt = 0\n",
    "fv = 100000\n",
    "\n",
    "# Present value (PV) is the current value of a future sum of money or stream of cash flows given a specified rate of return.\n",
    "present_value = nf.pv(rate/12, nper*12, pmt, fv)\n",
    "print(\"PV is:\", present_value)"
   ]
  },
  {
   "cell_type": "markdown",
   "id": "5b60e96c-c109-4296-bc36-f1f9672112e0",
   "metadata": {},
   "source": [
    "**_<span style=\"color:blue; font-size:x-large;\">You Try:</span>_**"
   ]
  },
  {
   "cell_type": "code",
   "execution_count": 21,
   "id": "44d6cd73-4391-4953-b23a-ff3ecf26ac68",
   "metadata": {},
   "outputs": [],
   "source": [
    "# Calculating Present Value\n",
    "# What is the present value (e.g., the initial investment) of an investment that needs to total $100,000 after 10 years of saving $200 every month?\n",
    "# Assume the interest rate is 8% (annually) compounded monthly."
   ]
  },
  {
   "cell_type": "markdown",
   "id": "318dc424-4548-455c-9b0f-abcfd748600a",
   "metadata": {},
   "source": [
    "### Calculation of bond price\n",
    "The price of a bond at the time we purchase it is the present value of all the future streams of payments.\n",
    "\n",
    "For example, there is a bond with a $2000 face value which will pay a coupon rate of 8% once per year. If the bond will be matured in 5 years and the annual compound interest rate is 6% for all loan terms, what is the price of the bond?\n",
    "\n",
    "![bond_FV](https://miro.medium.com/v2/resize:fit:720/format:webp/1*ObtQM5EJRRzR6-5ZezsQgw.png)\n",
    "\n",
    "This is a discounted cash flow over the bond period of time. The higher the interest rate the lower the bond price. This means the bond price is correlated negatively with the interest rate."
   ]
  },
  {
   "cell_type": "code",
   "execution_count": 22,
   "id": "6323bf30-f024-42c2-a79d-254b7b48d6a1",
   "metadata": {},
   "outputs": [
    {
     "name": "stdout",
     "output_type": "stream",
     "text": [
      "The price of bond is : $2168.494551422629\n"
     ]
    }
   ],
   "source": [
    "principal = 2000\n",
    "annual_interest = 0.06\n",
    "period = 5\n",
    "coupon_payment = 0.08 * principal\n",
    "\n",
    "bond_price = (nf.pv(annual_interest, period, coupon_payment, principal)) * -1\n",
    "print(\"The price of bond is : $\" + str(bond_price))"
   ]
  },
  {
   "cell_type": "markdown",
   "id": "d07e5768-843b-4e4c-a906-b0b62d08331f",
   "metadata": {},
   "source": [
    "## nf.pmt() function\n",
    "\n",
    "#### The pmt() function is used to compute the payment against loan principal plus interest.\n",
    "\n",
    "nf.pmt(rate, nper, pv, fv=0, when='end')\n",
    "\n",
    "| Name | Description | Required / Optional |\r\n",
    "|------|-------------|---------------------|\r\n",
    "| rate | Rate of interest (per period) | array_like - Required |\r\n",
    "| nper | Number of compounding periods | array_like - Required |\r\n",
    "| pv   | Present value | array_like - Required |\r\n",
    "| fv   | Future value (default = 0) | array_like - Optional |\r\n",
    "| when | When payments are due ('begin' (1) or 'end' (0)) | {'begin', 1}, {'end', 0}, {string, int} - Required |\r\n"
   ]
  },
  {
   "cell_type": "code",
   "execution_count": 23,
   "id": "43f54132-d4c1-4e66-bbd7-6040f28cfc40",
   "metadata": {},
   "outputs": [
    {
     "name": "stdout",
     "output_type": "stream",
     "text": [
      "Monthly pmt is: -1110.0555643145096\n",
      "Total interest paid:  59848.00126128938\n"
     ]
    }
   ],
   "source": [
    "# Calculating payment against loan principal plus interest\n",
    "\n",
    "# What is the monthly payment needed to pay off a $100,000 loan in 12 years at an annual interest rate of 8.5%?\n",
    "\n",
    "rate = 0.085\n",
    "nper = 12\n",
    "fv = 100000\n",
    "\n",
    "# Present value (PV) is the current value of a future sum of money or stream of cash flows given a specified rate of return.\n",
    "loan_pmt = nf.pmt(rate/12, nper*12, fv)\n",
    "print(\"Monthly pmt is:\", loan_pmt)\n",
    "\n",
    "# Total interest paid:\n",
    "print(\"Total interest paid: \", ((-loan_pmt*12*nper) - fv))"
   ]
  },
  {
   "cell_type": "markdown",
   "id": "1ad62f71-6c1c-432b-b6d5-3a9297aa136f",
   "metadata": {},
   "source": [
    "**_<span style=\"color:blue; font-size:x-large;\">You Try:</span>_**"
   ]
  },
  {
   "cell_type": "code",
   "execution_count": 24,
   "id": "b3b0a3b1-1348-4959-9b22-027bb39481cf",
   "metadata": {},
   "outputs": [],
   "source": [
    "# Calculating payment against loan principal plus interest\n",
    "# What is the monthly payment needed to pay off a $200,000 loan in 30 years at an annual interest rate of 7.5%?\n"
   ]
  },
  {
   "cell_type": "markdown",
   "id": "886b4abe-5194-400d-a158-3f085f1f01a4",
   "metadata": {},
   "source": [
    "# Random Number Generation and Data Distribution\n",
    "Offers functions for generating random numbers with different distributions, such as uniform, normal, and discrete."
   ]
  },
  {
   "cell_type": "code",
   "execution_count": 25,
   "id": "96c9510d-44df-4a2d-ac88-2be1af4d01fa",
   "metadata": {},
   "outputs": [
    {
     "name": "stdout",
     "output_type": "stream",
     "text": [
      "87\n"
     ]
    }
   ],
   "source": [
    "from numpy import random\n",
    "\n",
    "x = random.randint(100)\n",
    "\n",
    "print(x)"
   ]
  },
  {
   "cell_type": "markdown",
   "id": "ab2ffdc3-d91d-4ed1-a3df-46315162fc2c",
   "metadata": {},
   "source": [
    "### Use the random.normal() method to get a Normal Data Distribution.\r\n",
    "loc - (Mean) where the peak of the bell exists.\n",
    "\n",
    "scale - (Standard Deviation) how flat the graph distribution should be.\n",
    "\n",
    "size - The shape of the returned array.ay."
   ]
  },
  {
   "cell_type": "code",
   "execution_count": 26,
   "id": "c1487221-8a95-4aa9-bae1-2dfd6c855184",
   "metadata": {},
   "outputs": [
    {
     "name": "stdout",
     "output_type": "stream",
     "text": [
      "[[ 0.70110012 -0.76511679  1.71547797]\n",
      " [-0.13654428  1.61472272  3.16259662]]\n"
     ]
    }
   ],
   "source": [
    "from numpy import random\n",
    "\n",
    "x = random.normal(loc=1, scale=2, size=(2, 3))\n",
    "\n",
    "print(x)"
   ]
  },
  {
   "cell_type": "code",
   "execution_count": 27,
   "id": "06aaacbb-7fae-474d-bf88-154d13e5ebd3",
   "metadata": {},
   "outputs": [
    {
     "name": "stderr",
     "output_type": "stream",
     "text": [
      "C:\\Users\\kmcel\\AppData\\Local\\Temp\\ipykernel_23192\\3600394760.py:10: FutureWarning: \n",
      "\n",
      "`shade` is now deprecated in favor of `fill`; setting `fill=True`.\n",
      "This will become an error in seaborn v0.14.0; please update your code.\n",
      "\n",
      "  sns.kdeplot(data, shade=True)\n",
      "C:\\Users\\kmcel\\anaconda3\\Lib\\site-packages\\seaborn\\_oldcore.py:1119: FutureWarning: use_inf_as_na option is deprecated and will be removed in a future version. Convert inf values to NaN before operating instead.\n",
      "  with pd.option_context('mode.use_inf_as_na', True):\n"
     ]
    },
    {
     "data": {
      "image/png": "[encoded data removed]",
      "text/plain": [
       "<Figure size 640x480 with 1 Axes>"
      ]
     },
     "metadata": {},
     "output_type": "display_data"
    }
   ],
   "source": [
    "from numpy import random\n",
    "import matplotlib.pyplot as plt\n",
    "import pandas as pd\n",
    "import seaborn as sns\n",
    "\n",
    "# Generate 1000 random samples from a standard normal distribution\n",
    "data = np.random.normal(size=1000)\n",
    "\n",
    "# Create a KDE plot\n",
    "sns.kdeplot(data, shade=True)\n",
    "    \n",
    "# Display the plot\n",
    "plt.show()"
   ]
  },
  {
   "cell_type": "markdown",
   "id": "06f13784-1133-4aa1-ae3e-cee99ed6a0eb",
   "metadata": {},
   "source": [
    "### Weibull Distribution\r\n",
    "\r\n",
    "- Weibull is primarily used in preventive maintenance applications, representing the failure rate over time.\r\n",
    "- It signifies the \"Time to Failure,\" particularly in machines like truck components.\r\n",
    "- Manufacturers often publish Weibull distributions for planning purposes.\r\n",
    "\r\n",
    "#### Parameters of Weibull Distribution:\r\n",
    "\r\n",
    "- **Shape:** Determines how quickly the component is likely to fail over time, or the steepness of the curve.\r\n",
    "\r\n",
    "- **Scale:** NumPy does not necessitate the scale parameter directly. Instead, you can obtain the scale distribution by multiplying the Weibull value \r",
    "\r\n",
    "by scale.\r\n"
   ]
  },
  {
   "cell_type": "code",
   "execution_count": 28,
   "id": "1818d330-9bc3-4eb0-9253-b74fc7a0acd1",
   "metadata": {},
   "outputs": [
    {
     "data": {
      "text/plain": [
       "(array([ 2.,  7., 16., 45., 56., 89., 89., 56., 30., 10.]),\n",
       " array([0.2541711 , 0.3735536 , 0.49293611, 0.61231861, 0.73170112,\n",
       "        0.85108362, 0.97046613, 1.08984863, 1.20923114, 1.32861364,\n",
       "        1.44799615]),\n",
       " <BarContainer object of 10 artists>)"
      ]
     },
     "execution_count": 28,
     "metadata": {},
     "output_type": "execute_result"
    },
    {
     "data": {
      "image/png": "[encoded data removed]",
      "text/plain": [
       "<Figure size 640x480 with 1 Axes>"
      ]
     },
     "metadata": {},
     "output_type": "display_data"
    }
   ],
   "source": [
    "import numpy as np\n",
    "import matplotlib.pyplot as plt\n",
    "\n",
    "#This histogram shows the count of unique observations, or frequency distribution:\n",
    "shape=5\n",
    "arr = np.random.weibull(shape,400)\n",
    "plt.hist(arr)"
   ]
  },
  {
   "cell_type": "markdown",
   "id": "cd8878ff-e1d8-4fb8-826b-1b03ed8757fc",
   "metadata": {},
   "source": [
    "### Poisson Distribution\r\n",
    "\r\n",
    "- Poisson distribution represents the probability of a given number of occurrences in a fixed interval of time or space.\r\n",
    "\r\n",
    "#### Applications:\r\n",
    "\r\n",
    "- **Queue Length:** In scenarios such as a supermarket, the length of a queue follows a Poisson distribution.\r\n",
    "  - Knowing this, shoppers can gauge when to join the queue or opt to continue shopping until the line shortens.\r\n",
    "\r\n",
    "- **Variability:** The queue length varies significantly over time, fluctuating throughout the day.\r\n",
    "  - As a result, shoppers can make informed decisions, choosing to shop or explore the store instead of waiting in line.\r\n"
   ]
  },
  {
   "cell_type": "code",
   "execution_count": 29,
   "id": "0a1089a6-339e-4a23-9575-f0d6e6a83ac3",
   "metadata": {},
   "outputs": [
    {
     "data": {
      "text/plain": [
       "[<matplotlib.lines.Line2D at 0x166a2673650>]"
      ]
     },
     "execution_count": 29,
     "metadata": {},
     "output_type": "execute_result"
    },
    {
     "data": {
      "image/png": "[encoded data removed]",
      "text/plain": [
       "<Figure size 640x480 with 1 Axes>"
      ]
     },
     "metadata": {},
     "output_type": "display_data"
    }
   ],
   "source": [
    "import matplotlib.pyplot as plt\n",
    "arr = np.random.poisson(2,400)\n",
    "\n",
    "#Here we see the line length varies between 8 and 0\n",
    "# The number function does not return a probability.\n",
    "# Remember that it returns an observation, meaning it picks a number subject to the Weibull statistical cure.\n",
    "plt.plot(arr)"
   ]
  },
  {
   "cell_type": "markdown",
   "id": "5ed8cef1-6daf-496e-bb1c-e5f5420f0eb2",
   "metadata": {},
   "source": [
    "### Binomial Distribution\r\n",
    "\r\n",
    "- Binomial distribution deals with discrete outcomes, such as rolling dice or flipping coins.\r\n",
    "\r\n",
    "#### Example: Game of Craps\r\n",
    "\r\n",
    "- In the game of craps, winning is achieved by rolling a total of 7 with two dice.\r\n",
    "\r\n",
    "- There are six combinations that result in a total of 7:\r\n",
    "  - 1,6\r\n",
    "  - 2,5\r\n",
    "  - 3,4\r\n",
    "  - 4,3\r\n",
    "  - 5,2\r\n",
    "  - 6,1\r\n",
    "\r\n",
    "- With a total of 36 possible outcomes from rolling two dice (6 * 6), the probability of winning is calculated as 6/36 or 1/6.\r\n",
    "\r\n",
    "#### Simulation:\r\n",
    "\r\n",
    "- To simulate 400 rolls of the dice in Python, you can use:\r\n"
   ]
  },
  {
   "cell_type": "code",
   "execution_count": 30,
   "id": "22c49a13-3a0e-4690-a027-347e2b66d7a3",
   "metadata": {},
   "outputs": [
    {
     "data": {
      "text/plain": [
       "(array([ 18.,  42.,  54., 149.,  61.,  32.,  34.,   9.,   0.,   1.]),\n",
       " array([ 1. ,  2.3,  3.6,  4.9,  6.2,  7.5,  8.8, 10.1, 11.4, 12.7, 14. ]),\n",
       " <BarContainer object of 10 artists>)"
      ]
     },
     "execution_count": 30,
     "metadata": {},
     "output_type": "execute_result"
    },
    {
     "data": {
      "image/png": "[encoded data removed]",
      "text/plain": [
       "<Figure size 640x480 with 1 Axes>"
      ]
     },
     "metadata": {},
     "output_type": "display_data"
    }
   ],
   "source": [
    "import numpy as np\n",
    "import matplotlib.pyplot as plt\n",
    "arr = np.random.binomial(36,1/6,400)\n",
    "plt.hist(arr)"
   ]
  },
  {
   "cell_type": "markdown",
   "id": "b08b9754-565d-49fb-b61f-b816222aa705",
   "metadata": {},
   "source": [
    "# Uniform\r\n",
    "\n",
    "Uniform distribution varies at equal probability between a high and low range."
   ]
  },
  {
   "cell_type": "code",
   "execution_count": 31,
   "id": "3d9709e2-c626-4624-8d36-cf27b048a473",
   "metadata": {
    "scrolled": true
   },
   "outputs": [
    {
     "data": {
      "text/plain": [
       "(array([108.,  91., 109., 105.,  84., 109., 105.,  98.,  82., 109.]),\n",
       " array([-0.99840197, -0.89873869, -0.79907541, -0.69941213, -0.59974885,\n",
       "        -0.50008557, -0.40042229, -0.30075901, -0.20109573, -0.10143245,\n",
       "        -0.00176917]),\n",
       " <BarContainer object of 10 artists>)"
      ]
     },
     "execution_count": 31,
     "metadata": {},
     "output_type": "execute_result"
    },
    {
     "data": {
      "image/png": "[encoded data removed]",
      "text/plain": [
       "<Figure size 640x480 with 1 Axes>"
      ]
     },
     "metadata": {},
     "output_type": "display_data"
    }
   ],
   "source": [
    "import numpy as np\n",
    "import matplotlib.pyplot as plt\n",
    "arr = np.random.uniform(-1,0,1000)\n",
    "plt.hist(arr)"
   ]
  },
  {
   "cell_type": "markdown",
   "id": "99c270e7-8e03-421f-be96-1f86ac47bc38",
   "metadata": {},
   "source": [
    "# Investing Game:"
   ]
  },
  {
   "cell_type": "code",
   "execution_count": 32,
   "id": "4aea2f64-4892-45ef-b3d6-69df91d82736",
   "metadata": {},
   "outputs": [],
   "source": [
    "#Loan One Question\n",
    "rates = np.array([4.25, 5.5, 6.55])\n",
    "nper_years = np.array([30, 20, 15])\n",
    "future_values = np.array([200000, 200000, 200000])\n"
   ]
  },
  {
   "cell_type": "code",
   "execution_count": 33,
   "id": "1a1e965a-bf4b-4061-b0c9-2dbc377feda7",
   "metadata": {},
   "outputs": [],
   "source": [
    "#Loan Two Question\n",
    "\n",
    "rates = np.array([6.82, 6.95, 6.46])\n",
    "nper_years = np.array([30, 20, 15])\n",
    "future_values = np.array([200000, 200000, 200000])\n"
   ]
  },
  {
   "cell_type": "code",
   "execution_count": 34,
   "id": "a2a3a3c4-0191-4af7-8d10-96a080628259",
   "metadata": {},
   "outputs": [],
   "source": [
    "#Bond One Question\n",
    "principals = [1800, 2000, 2100, 1750]\n",
    "annual_interests = [0.06, 0.055, 0.057, 0.045]\n",
    "periods = [6, 4, 5, 6]\n",
    "coupon_rates = [0.04, 0.06, 0.055, 0.045]\n",
    "\n"
   ]
  },
  {
   "cell_type": "code",
   "execution_count": 35,
   "id": "ad1bafa8-2b19-4fd1-85d8-b75ddc8fb2a8",
   "metadata": {},
   "outputs": [],
   "source": [
    "#Bond Two Question\n",
    "principals = [1000, 2000, 2100, 1500]\n",
    "annual_interests = [0.06, 0.055, 0.06, 0.045]\n",
    "periods = [10, 4, 5, 6]\n",
    "coupon_rates = [0.04, 0.05, 0.055, 0.045]\n"
   ]
  },
  {
   "cell_type": "markdown",
   "id": "2a24b95f-90cc-4ebc-82a9-bd4092f2a94c",
   "metadata": {},
   "source": [
    "## How to calculate a stock’s beta\r\n",
    "A stock’s beta is equal to the covariance of the stock’s returns and its benchmark index’s returns over a particular time period, divided by the variance of the index’s returns over that period.\r\n",
    "\r\n",
    "As a formula, β = covariance(stock returns, index returns) / variance(index returns)."
   ]
  },
  {
   "cell_type": "code",
   "execution_count": 36,
   "id": "1cada920-d9bb-4c39-9f04-a53f8632b033",
   "metadata": {},
   "outputs": [],
   "source": [
    "#Stock One Question\n",
    "market = [35.892433, 38.401634, 37.724098, 33.199394, 37.730011, 39.978767, 42.25919, 43.890942, 36.946014, 32.406963, 23.836721, 29.910032, 31.467083, 33.822498, 34.071445, 37.440418, 39.643097, 38.328682, 44.664841, 47.350212, 44.278847, 50.600742, 55.157078, 53.914879, 59.021698, 55.142567, 54.166592, 54.811436, 50.700966, 49.300438, 48.384365, 50.575695]\n",
    "stockA = [79.730003, 88.790001, 95.510002, 91.669998, 76.199997, 69.889999, 74.5, 68.040001, 76.300003, 105, 146.119995, 135.169998, 179.479996, 253.539993, 253.910004, 325.100006, 470.109985, 460.910004, 478.359985, 337.320007, 372.070007, 373.609985, 321.290009, 319.570007, 331.529999, 387.029999, 378.100006, 289.5, 261.5, 274.649994, 211.410004, 183.910004]\n",
    "stockB = [101.589996, 107.389999, 101.75, 101.529999, 114.160004, 110.400002, 91.459999, 94.050003, 87.07, 83.029999, 73.470001, 79.669998, 97.870003, 92.68, 93.349998, 96.269997, 91.339996, 90.32, 109.239998, 108.040001, 101.660004, 98.199997, 114.459999, 114.900002, 97.5, 99.5, 99.790001, 90.540001, 95.720001, 107.760002, 133.830002, 140.520004]\n",
    "stockC = [117.580002, 123.989998, 129.050003, 130.630005, 134.490005, 138.550003, 140.210007, 140.539993, 138.839996, 130.75, 119.949997, 123.589996, 126.010002, 125.629997, 119.339996, 132.429993, 132.440002, 131.289993, 134.460007, 154.570007, 140.520004, 147.929993, 156.059998, 150.770004, 165.979996, 174.839996, 179.839996, 174.229996, 177.75, 176.570007, 177.850006, 185.300003]\n",
    "stockD = [42.07, 47.099998, 45.73, 43.130001, 47.189999, 49.450001, 55.029999, 50.580002, 51.209999, 52.119999, 47.939999, 49.48, 54.689999, 52.189999, 54.619999, 50.759998, 46.950001, 45.790001, 54.59, 53.560001, 53.73, 51.52, 60.75, 60.34, 56.07, 57.09, 59.380001, 52.490002, 49.459999, 47.810001, 46.23, 51.490002]\n"
   ]
  },
  {
   "cell_type": "code",
   "execution_count": 37,
   "id": "6a966995-70cd-4356-a787-3a71945b8e3d",
   "metadata": {},
   "outputs": [],
   "source": [
    "#Stock Two Question\n",
    "market = [55.609638, 53.595139, 51.99493, 51.596577, 46.266193, 51.227669, 54.315178, 52.478062, 50.229038, 47.092155, 50.414131, 54.157787, 52.933212, 55.184853]\n",
    "stockA = [75, 74.589996, 73.839996, 61.43, 67.129997, 67.879997, 73.349998, 71.029999, 69.940002, 59.98, 67.830002, 71.910004, 64.610001, 70.730003]\n",
    "stockB = [150.179993, 145.279999, 143.550003, 153.710007, 134.880005, 143.5, 154.330002, 122.360001, 106.449997, 111.089996, 123.589996, 142.050003, 130.619995, 146.679993]\n",
    "stockC = [147.110001, 135.919998, 141.690002, 137.330002, 136.130005, 160.75, 168.240005, 172.130005, 179.75, 175.179993, 189.779999, 183.380005, 199.699997, 240.550003]\n",
    "stockD = [77.25, 75.709999, 75.5, 82.099998, 82.300003, 94.57, 91.470001, 87.330002, 86.82, 91, 107.080002, 100.800003, 109.190002, 111.980003]\n"
   ]
  }
 ],
 "metadata": {
  "kernelspec": {
   "display_name": "Python 3 (ipykernel)",
   "language": "python",
   "name": "python3"
  },
  "language_info": {
   "codemirror_mode": {
    "name": "ipython",
    "version": 3
   },
   "file_extension": ".py",
   "mimetype": "text/x-python",
   "name": "python",
   "nbconvert_exporter": "python",
   "pygments_lexer": "ipython3",
   "version": "3.11.7"
  }
 },
 "nbformat": 4,
 "nbformat_minor": 5
}
